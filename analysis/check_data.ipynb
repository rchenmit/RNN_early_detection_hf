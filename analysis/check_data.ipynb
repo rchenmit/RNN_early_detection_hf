{
 "cells": [
  {
   "cell_type": "code",
   "execution_count": 2,
   "metadata": {
    "collapsed": true
   },
   "outputs": [],
   "source": [
    "import pandas as pd\n",
    "import numpy as np\n",
    "import cPickle as pickle"
   ]
  },
  {
   "cell_type": "code",
   "execution_count": 10,
   "metadata": {
    "collapsed": true
   },
   "outputs": [],
   "source": [
    "l_files = ['../data/2_1_outpatient_De_V_Di_M_S_enc_cutoff_5.p.seqs.ll.subset_1',\n",
    "          '../data/2_1_outpatient_De_V_Di_M_S_enc_cutoff_10.p.seqs.ll.subset_1',\n",
    "          '../data/2_1_outpatient_De_V_Di_M_S_enc_cutoff_20.p.seqs.ll.subset_1',\n",
    "          '../data/2_1_outpatient_De_V_Di_M_S_enc_cutoff_30.p.seqs.ll.subset_1',\n",
    "          '../data/2_1_outpatient_De_V_Di_M_S_enc_cutoff_40.p.seqs.ll.subset_1',\n",
    "          '../data/2_1_outpatient_De_V_Di_M_S_enc_cutoff_50.p.seqs.ll.subset_1',\n",
    "          '../data/2_1_outpatient_De_V_Di_M_S_enc_cutoff_60.p.seqs.ll.subset_1',\n",
    "          '../data/2_1_outpatient_De_V_Di_M_S_enc_cutoff_70.p.seqs.ll.subset_1'\n",
    "          ]"
   ]
  },
  {
   "cell_type": "code",
   "execution_count": 11,
   "metadata": {},
   "outputs": [
    {
     "name": "stdout",
     "output_type": "stream",
     "text": [
      "../data/2_1_outpatient_De_V_Di_M_S_enc_cutoff_5.p.seqs.ll.subset_1\n",
      "29403 ,  514\n",
      "../data/2_1_outpatient_De_V_Di_M_S_enc_cutoff_10.p.seqs.ll.subset_1\n",
      "24375 ,  508\n",
      "../data/2_1_outpatient_De_V_Di_M_S_enc_cutoff_20.p.seqs.ll.subset_1\n",
      "15599 ,  496\n",
      "../data/2_1_outpatient_De_V_Di_M_S_enc_cutoff_30.p.seqs.ll.subset_1\n",
      "9611 ,  493\n",
      "../data/2_1_outpatient_De_V_Di_M_S_enc_cutoff_40.p.seqs.ll.subset_1\n",
      "5985 ,  478\n",
      "../data/2_1_outpatient_De_V_Di_M_S_enc_cutoff_50.p.seqs.ll.subset_1\n",
      "3704 ,  496\n",
      "../data/2_1_outpatient_De_V_Di_M_S_enc_cutoff_60.p.seqs.ll.subset_1\n",
      "2376 ,  486\n",
      "../data/2_1_outpatient_De_V_Di_M_S_enc_cutoff_70.p.seqs.ll.subset_1\n",
      "1571 ,  461\n"
     ]
    }
   ],
   "source": [
    "for seq_file in l_files:\n",
    "    print seq_file\n",
    "    with open(seq_file, 'rb') as f:\n",
    "        seqs = pickle.load(f)\n",
    "    f.close()\n",
    "    \n",
    "    print len(seqs),\", \", np.max(np.max(np.max(seqs)))"
   ]
  },
  {
   "cell_type": "code",
   "execution_count": null,
   "metadata": {
    "collapsed": true
   },
   "outputs": [],
   "source": []
  }
 ],
 "metadata": {
  "kernelspec": {
   "display_name": "Python 2",
   "language": "python",
   "name": "python2"
  },
  "language_info": {
   "codemirror_mode": {
    "name": "ipython",
    "version": 2
   },
   "file_extension": ".py",
   "mimetype": "text/x-python",
   "name": "python",
   "nbconvert_exporter": "python",
   "pygments_lexer": "ipython2",
   "version": "2.7.12"
  }
 },
 "nbformat": 4,
 "nbformat_minor": 2
}
